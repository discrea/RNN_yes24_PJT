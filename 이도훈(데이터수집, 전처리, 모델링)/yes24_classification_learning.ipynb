{
 "cells": [
  {
   "cell_type": "markdown",
   "metadata": {},
   "source": [
    "## Model learning"
   ]
  },
  {
   "cell_type": "code",
   "execution_count": 1,
   "metadata": {},
   "outputs": [],
   "source": [
    "import pandas as pd\n",
    "import numpy as np\n",
    "import matplotlib.pyplot as plt\n",
    "from tensorflow.keras.callbacks import EarlyStopping\n",
    "from tensorflow.keras.models import Sequential\n",
    "from tensorflow.keras.layers import *\n",
    "from tensorflow.keras import regularizers\n",
    "# Import mlcompute module to use the optional set_mlc_device API for device selection with ML Compute.\n",
    "from tensorflow.python.compiler.mlcompute import mlcompute"
   ]
  },
  {
   "cell_type": "code",
   "execution_count": 2,
   "metadata": {},
   "outputs": [
    {
     "name": "stdout",
     "output_type": "stream",
     "text": [
      "WARNING:tensorflow:Eager mode uses the CPU. Switching to the CPU.\n"
     ]
    }
   ],
   "source": [
    "# Select GPU device.\n",
    "mlcompute.set_mlc_device(device_name='any') # Available options are 'cpu', 'gpu', and ‘any'."
   ]
  },
  {
   "cell_type": "code",
   "execution_count": 3,
   "metadata": {},
   "outputs": [
    {
     "name": "stdout",
     "output_type": "stream",
     "text": [
      "(32788, 179)\n",
      "(8198, 179)\n",
      "(32788, 12)\n",
      "(8198, 12)\n"
     ]
    }
   ],
   "source": [
    "X_train, X_test, Y_train, Y_test = np.load('../data/book_data_max_179_wordsize_123913.npy', allow_pickle=True)\n",
    "print(X_train.shape)\n",
    "print(X_test.shape)\n",
    "print(Y_train.shape)\n",
    "print(Y_test.shape)"
   ]
  },
  {
   "cell_type": "code",
   "execution_count": 4,
   "metadata": {},
   "outputs": [
    {
     "name": "stdout",
     "output_type": "stream",
     "text": [
      "Model: \"sequential\"\n",
      "_________________________________________________________________\n",
      "Layer (type)                 Output Shape              Param #   \n",
      "=================================================================\n",
      "embedding (Embedding)        (None, 179, 100)          12391300  \n",
      "_________________________________________________________________\n",
      "conv1d (Conv1D)              (None, 179, 16)           8016      \n",
      "_________________________________________________________________\n",
      "max_pooling1d (MaxPooling1D) (None, 179, 16)           0         \n",
      "_________________________________________________________________\n",
      "lstm (LSTM)                  (None, 128)               74240     \n",
      "_________________________________________________________________\n",
      "dropout (Dropout)            (None, 128)               0         \n",
      "_________________________________________________________________\n",
      "flatten (Flatten)            (None, 128)               0         \n",
      "_________________________________________________________________\n",
      "dense (Dense)                (None, 256)               33024     \n",
      "_________________________________________________________________\n",
      "dropout_1 (Dropout)          (None, 256)               0         \n",
      "_________________________________________________________________\n",
      "dense_1 (Dense)              (None, 128)               32896     \n",
      "_________________________________________________________________\n",
      "dropout_2 (Dropout)          (None, 128)               0         \n",
      "_________________________________________________________________\n",
      "dense_2 (Dense)              (None, 64)                8256      \n",
      "_________________________________________________________________\n",
      "dropout_3 (Dropout)          (None, 64)                0         \n",
      "_________________________________________________________________\n",
      "dense_3 (Dense)              (None, 12)                780       \n",
      "=================================================================\n",
      "Total params: 12,548,512\n",
      "Trainable params: 12,548,512\n",
      "Non-trainable params: 0\n",
      "_________________________________________________________________\n",
      "None\n"
     ]
    }
   ],
   "source": [
    "model_LSTM_dict = {\n",
    "    'E':100, \n",
    "    'C':[16,5], \n",
    "    'M':1, \n",
    "    'L1':128, \n",
    "    'DO1':0.5, \n",
    "#     'L2':64, \n",
    "#     'DO2':0.3, \n",
    "#     'L3':64, \n",
    "#     'DO3':0.5, \n",
    "}\n",
    "model_Dense_dict = {\n",
    "    'D1':256,\n",
    "    'DO1':0.5,\n",
    "    'D2':128,\n",
    "    'DO2':0.5,\n",
    "    'D3':64,\n",
    "    'DO3':0.1,\n",
    "    'D4':12\n",
    "}\n",
    "\n",
    "model = Sequential()\n",
    "model.add(Embedding(123913, model_LSTM_dict['E'], input_length=179)) \n",
    "model.add(Conv1D(model_LSTM_dict['C'][0], kernel_size=model_LSTM_dict['C'][1], padding='same', activation='relu'))\n",
    "model.add(MaxPool1D(pool_size=model_LSTM_dict['M']))\n",
    "model.add(LSTM(model_LSTM_dict['L1'], activation='tanh'))#, return_sequences=True))  \n",
    "model.add(Dropout(model_LSTM_dict['DO1']))\n",
    "# model.add(LSTM(model_LSTM_dict['L2'], activation='tanh', return_sequences=True))  \n",
    "# model.add(Dropout(model_LSTM_dict['DO2']))\n",
    "# model.add(LSTM(model_LSTM_dict['L3'], activation='tanh')) \n",
    "# model.add(Dropout(model_LSTM_dict['DO3']))\n",
    "model.add(Flatten())\n",
    "model.add(Dense(model_Dense_dict['D1'], activation='relu'))\n",
    "model.add(Dropout(model_Dense_dict['DO1']))\n",
    "model.add(Dense(model_Dense_dict['D2'], activation='relu'))\n",
    "model.add(Dropout(model_Dense_dict['DO2']))\n",
    "model.add(Dense(model_Dense_dict['D3'], activation='relu'))\n",
    "model.add(Dropout(model_Dense_dict['DO3']))\n",
    "model.add(Dense(model_Dense_dict['D4'], activation='softmax'))\n",
    "print(model.summary())"
   ]
  },
  {
   "cell_type": "code",
   "execution_count": 5,
   "metadata": {
    "tags": []
   },
   "outputs": [
    {
     "name": "stdout",
     "output_type": "stream",
     "text": [
      "Epoch 1/50\n",
      "65/65 [==============================] - 48s 728ms/step - loss: 2.4209 - accuracy: 0.1321 - val_loss: 2.0401 - val_accuracy: 0.2296\n",
      "Epoch 2/50\n",
      "65/65 [==============================] - 47s 716ms/step - loss: 1.9023 - accuracy: 0.2933 - val_loss: 1.5403 - val_accuracy: 0.4244\n",
      "Epoch 3/50\n",
      "65/65 [==============================] - 47s 716ms/step - loss: 1.3820 - accuracy: 0.4764 - val_loss: 2.7127 - val_accuracy: 0.4727\n",
      "Epoch 4/50\n",
      "65/65 [==============================] - 47s 717ms/step - loss: 1.3200 - accuracy: 0.5375 - val_loss: 1.5647 - val_accuracy: 0.5079\n",
      "Epoch 5/50\n",
      "65/65 [==============================] - 47s 720ms/step - loss: 1.0350 - accuracy: 0.6203 - val_loss: 1.3610 - val_accuracy: 0.5865\n",
      "Epoch 6/50\n",
      "65/65 [==============================] - 47s 723ms/step - loss: 0.7451 - accuracy: 0.7328 - val_loss: 1.4278 - val_accuracy: 0.6139\n",
      "Epoch 7/50\n",
      "65/65 [==============================] - 47s 723ms/step - loss: 0.5692 - accuracy: 0.8026 - val_loss: 1.5084 - val_accuracy: 0.6189\n",
      "Epoch 8/50\n",
      "65/65 [==============================] - 47s 724ms/step - loss: 0.4714 - accuracy: 0.8453 - val_loss: 1.7073 - val_accuracy: 0.6404\n",
      "Epoch 9/50\n",
      "65/65 [==============================] - 47s 729ms/step - loss: 0.4092 - accuracy: 0.8722 - val_loss: 1.7278 - val_accuracy: 0.6258\n",
      "Epoch 10/50\n",
      "65/65 [==============================] - 47s 723ms/step - loss: 0.2890 - accuracy: 0.9121 - val_loss: 1.8249 - val_accuracy: 0.6414\n",
      "Epoch 11/50\n",
      "65/65 [==============================] - 47s 722ms/step - loss: 0.2370 - accuracy: 0.9316 - val_loss: 2.3869 - val_accuracy: 0.6010\n",
      "Epoch 12/50\n",
      "65/65 [==============================] - 47s 727ms/step - loss: 0.2708 - accuracy: 0.9196 - val_loss: 2.0057 - val_accuracy: 0.6438\n",
      "Epoch 13/50\n",
      "65/65 [==============================] - 47s 726ms/step - loss: 0.1687 - accuracy: 0.9519 - val_loss: 2.0349 - val_accuracy: 0.6475\n",
      "Epoch 14/50\n",
      "65/65 [==============================] - 47s 729ms/step - loss: 0.1342 - accuracy: 0.9642 - val_loss: 2.3791 - val_accuracy: 0.6347\n",
      "Epoch 15/50\n",
      "65/65 [==============================] - 47s 727ms/step - loss: 0.1440 - accuracy: 0.9598 - val_loss: 2.4363 - val_accuracy: 0.6364\n",
      "Epoch 16/50\n",
      "65/65 [==============================] - 47s 728ms/step - loss: 0.1021 - accuracy: 0.9720 - val_loss: 2.4243 - val_accuracy: 0.6465\n",
      "Epoch 17/50\n",
      "65/65 [==============================] - 47s 727ms/step - loss: 0.0885 - accuracy: 0.9759 - val_loss: 2.5105 - val_accuracy: 0.6323\n",
      "Epoch 18/50\n",
      "65/65 [==============================] - 47s 725ms/step - loss: 0.0850 - accuracy: 0.9761 - val_loss: 2.5878 - val_accuracy: 0.6317\n",
      "Epoch 19/50\n",
      "65/65 [==============================] - 47s 726ms/step - loss: 0.0569 - accuracy: 0.9850 - val_loss: 2.7484 - val_accuracy: 0.6403\n",
      "Epoch 20/50\n",
      "65/65 [==============================] - 47s 723ms/step - loss: 0.0592 - accuracy: 0.9852 - val_loss: 3.2038 - val_accuracy: 0.6126\n",
      "Epoch 21/50\n",
      "65/65 [==============================] - 47s 724ms/step - loss: 0.2536 - accuracy: 0.9325 - val_loss: 2.9366 - val_accuracy: 0.5940\n",
      "Epoch 22/50\n",
      "65/65 [==============================] - 47s 717ms/step - loss: 0.3746 - accuracy: 0.8894 - val_loss: 2.0937 - val_accuracy: 0.6289\n",
      "Epoch 23/50\n",
      "65/65 [==============================] - 47s 719ms/step - loss: 0.0959 - accuracy: 0.9738 - val_loss: 2.3549 - val_accuracy: 0.6378\n",
      "Epoch 24/50\n",
      "65/65 [==============================] - 47s 723ms/step - loss: 0.0566 - accuracy: 0.9856 - val_loss: 2.6793 - val_accuracy: 0.6363\n",
      "Epoch 25/50\n",
      "65/65 [==============================] - 47s 727ms/step - loss: 0.0499 - accuracy: 0.9865 - val_loss: 2.6944 - val_accuracy: 0.6488\n",
      "Epoch 26/50\n",
      "65/65 [==============================] - 47s 722ms/step - loss: 0.0530 - accuracy: 0.9857 - val_loss: 2.7119 - val_accuracy: 0.6499\n",
      "Epoch 27/50\n",
      "65/65 [==============================] - 47s 726ms/step - loss: 0.0917 - accuracy: 0.9760 - val_loss: 2.6765 - val_accuracy: 0.6516\n",
      "Epoch 28/50\n",
      "65/65 [==============================] - 47s 729ms/step - loss: 0.0498 - accuracy: 0.9884 - val_loss: 2.7260 - val_accuracy: 0.6480\n",
      "Epoch 29/50\n",
      "65/65 [==============================] - 47s 728ms/step - loss: 0.0364 - accuracy: 0.9913 - val_loss: 3.0622 - val_accuracy: 0.6320\n",
      "Epoch 30/50\n",
      "65/65 [==============================] - 47s 727ms/step - loss: 0.1014 - accuracy: 0.9723 - val_loss: 2.7434 - val_accuracy: 0.6449\n",
      "Epoch 31/50\n",
      "65/65 [==============================] - 47s 728ms/step - loss: 0.0446 - accuracy: 0.9885 - val_loss: 2.6700 - val_accuracy: 0.6524\n",
      "Epoch 32/50\n",
      "65/65 [==============================] - 47s 729ms/step - loss: 0.0266 - accuracy: 0.9943 - val_loss: 2.9965 - val_accuracy: 0.6393\n",
      "Epoch 33/50\n",
      "65/65 [==============================] - 47s 728ms/step - loss: 0.0405 - accuracy: 0.9887 - val_loss: 2.9773 - val_accuracy: 0.6425\n",
      "Epoch 34/50\n",
      "65/65 [==============================] - 47s 730ms/step - loss: 0.0180 - accuracy: 0.9954 - val_loss: 3.1726 - val_accuracy: 0.6434\n",
      "Epoch 35/50\n",
      "65/65 [==============================] - 47s 729ms/step - loss: 0.0170 - accuracy: 0.9962 - val_loss: 3.1064 - val_accuracy: 0.6520\n",
      "Epoch 36/50\n",
      "65/65 [==============================] - 48s 734ms/step - loss: 0.0226 - accuracy: 0.9940 - val_loss: 3.2785 - val_accuracy: 0.6371\n",
      "Epoch 37/50\n",
      "65/65 [==============================] - 47s 724ms/step - loss: 0.0186 - accuracy: 0.9959 - val_loss: 3.1788 - val_accuracy: 0.6372\n",
      "Epoch 38/50\n",
      "65/65 [==============================] - 47s 730ms/step - loss: 0.0254 - accuracy: 0.9939 - val_loss: 2.8016 - val_accuracy: 0.6448\n",
      "Epoch 39/50\n",
      "65/65 [==============================] - 48s 731ms/step - loss: 0.0239 - accuracy: 0.9939 - val_loss: 3.0143 - val_accuracy: 0.6592\n",
      "Epoch 40/50\n",
      "65/65 [==============================] - 47s 730ms/step - loss: 0.0318 - accuracy: 0.9922 - val_loss: 3.0253 - val_accuracy: 0.6421\n",
      "Epoch 41/50\n",
      "65/65 [==============================] - 47s 727ms/step - loss: 0.0263 - accuracy: 0.9934 - val_loss: 3.0680 - val_accuracy: 0.6467\n",
      "Epoch 42/50\n",
      "65/65 [==============================] - 47s 723ms/step - loss: 0.0255 - accuracy: 0.9941 - val_loss: 3.0779 - val_accuracy: 0.6270\n",
      "Epoch 43/50\n",
      "65/65 [==============================] - 47s 718ms/step - loss: 0.0252 - accuracy: 0.9934 - val_loss: 3.0647 - val_accuracy: 0.6395\n",
      "Epoch 44/50\n",
      "65/65 [==============================] - 47s 718ms/step - loss: 0.0185 - accuracy: 0.9961 - val_loss: 3.2683 - val_accuracy: 0.6481\n",
      "Epoch 45/50\n",
      "65/65 [==============================] - 47s 719ms/step - loss: 0.0161 - accuracy: 0.9966 - val_loss: 3.3719 - val_accuracy: 0.6398\n",
      "Epoch 46/50\n",
      "65/65 [==============================] - 47s 719ms/step - loss: 0.0175 - accuracy: 0.9955 - val_loss: 3.1685 - val_accuracy: 0.6482\n",
      "Epoch 47/50\n",
      "65/65 [==============================] - 47s 719ms/step - loss: 0.0168 - accuracy: 0.9960 - val_loss: 3.2621 - val_accuracy: 0.6366\n",
      "Epoch 48/50\n",
      "65/65 [==============================] - 47s 722ms/step - loss: 0.0180 - accuracy: 0.9955 - val_loss: 3.3752 - val_accuracy: 0.6539\n",
      "Epoch 49/50\n",
      "65/65 [==============================] - 47s 722ms/step - loss: 0.0174 - accuracy: 0.9958 - val_loss: 3.3117 - val_accuracy: 0.6539\n",
      "Epoch 50/50\n",
      "65/65 [==============================] - 47s 729ms/step - loss: 0.0187 - accuracy: 0.9958 - val_loss: 3.1548 - val_accuracy: 0.6471\n"
     ]
    }
   ],
   "source": [
    "# early_stopping = tf.keras.callbacks.EarlyStopping(moniter='val_accuracy', patience=5)\n",
    "fit_dict = {\n",
    "    'B':2048,\n",
    "    'E':50\n",
    "}\n",
    "model.compile(loss='categorical_crossentropy', \n",
    "              optimizer='adam', \n",
    "              metrics=['accuracy'])\n",
    "fit_hist = model.fit(X_train, Y_train, \n",
    "                     batch_size=fit_dict['B'], \n",
    "                     epochs=fit_dict['E'], \n",
    "                     validation_data=(X_test, Y_test))\n"
   ]
  },
  {
   "cell_type": "code",
   "execution_count": 6,
   "metadata": {},
   "outputs": [
    {
     "name": "stdout",
     "output_type": "stream",
     "text": [
      "E_100_C_16_5_M_1_L1_128_DO1_0.5_D1_256_DO1_0.5_D2_128_DO2_0.2_D3_64_DO3_0.1_D4_12_B_512_E_50\n"
     ]
    }
   ],
   "source": [
    "name = []\n",
    "for k,v in model_LSTM_dict.items():\n",
    "    name.append(k)\n",
    "    if str(type(v)) == \"<class 'list'>\":\n",
    "        for n in v:\n",
    "            name.append(str(n))\n",
    "    else:\n",
    "        name.append(str(v))\n",
    "\n",
    "for k,v in model_Dense_dict.items():\n",
    "    name.append(k)\n",
    "    name.append(str(v))\n",
    "\n",
    "for k,v in fit_dict.items():\n",
    "    name.append(k)\n",
    "    name.append(str(v))\n",
    "    \n",
    "file_name = '_'.join(name)\n",
    "print(file_name)"
   ]
  },
  {
   "cell_type": "code",
   "execution_count": 7,
   "metadata": {},
   "outputs": [
    {
     "name": "stdout",
     "output_type": "stream",
     "text": [
      "257/257 [==============================] - 59s 228ms/step - loss: 3.1548 - accuracy: 0.6471\n",
      "Evaluation loss : 3.1548233032226562\n",
      "Evaluation accuracy : 0.6471090316772461\n"
     ]
    }
   ],
   "source": [
    "score = model.evaluate(X_test, Y_test)\n",
    "print('Evaluation loss :', score[0])\n",
    "print('Evaluation accuracy :', score[1])"
   ]
  },
  {
   "cell_type": "code",
   "execution_count": 8,
   "metadata": {},
   "outputs": [
    {
     "data": {
      "image/png": "[encoded data removed]",
      "text/plain": [
       "<Figure size 432x288 with 1 Axes>"
      ]
     },
     "metadata": {},
     "output_type": "display_data"
    }
   ],
   "source": [
    "# 그래프\n",
    "plt.figure(facecolor=\"white\")\n",
    "plt.plot(fit_hist.history['loss'], label='loss')\n",
    "plt.plot(fit_hist.history['val_loss'], label='val_loss')\n",
    "plt.legend()\n",
    "plt.savefig('../result/loss_{}_{}.png'.format(score[0],file_name))\n",
    "plt.show()"
   ]
  },
  {
   "cell_type": "code",
   "execution_count": 9,
   "metadata": {},
   "outputs": [
    {
     "data": {
      "image/png": "[encoded data removed]",
      "text/plain": [
       "<Figure size 432x288 with 1 Axes>"
      ]
     },
     "metadata": {},
     "output_type": "display_data"
    }
   ],
   "source": [
    "plt.figure(facecolor=\"white\")\n",
    "plt.plot(fit_hist.history['accuracy'], label='accuracy')\n",
    "plt.plot(fit_hist.history['val_accuracy'], label='val_accuracy')\n",
    "plt.legend()\n",
    "plt.savefig('../result/accuracy_{}_{}.png'.format(score[1],file_name))\n",
    "plt.show()"
   ]
  },
  {
   "cell_type": "code",
   "execution_count": 10,
   "metadata": {},
   "outputs": [],
   "source": [
    "# 모델 저장\n",
    "model.save('./model/{}_{}.h5'.format(score[1],file_name))"
   ]
  },
  {
   "cell_type": "code",
   "execution_count": null,
   "metadata": {},
   "outputs": [],
   "source": []
  }
 ],
 "metadata": {
  "interpreter": {
   "hash": "9b78ea8340faa4f3fedfc3bbd1ba8106b0edcf38f62aea71ab9c2c97ecc54f73"
  },
  "kernelspec": {
   "display_name": "Python 3",
   "language": "python",
   "name": "python3"
  },
  "language_info": {
   "codemirror_mode": {
    "name": "ipython",
    "version": 3
   },
   "file_extension": ".py",
   "mimetype": "text/x-python",
   "name": "python",
   "nbconvert_exporter": "python",
   "pygments_lexer": "ipython3",
   "version": "3.8.6"
  }
 },
 "nbformat": 4,
 "nbformat_minor": 2
}
